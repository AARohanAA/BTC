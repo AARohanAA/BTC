{
  "nbformat": 4,
  "nbformat_minor": 0,
  "metadata": {
    "colab": {
      "name": "Crypto.ipynb",
      "provenance": [],
      "authorship_tag": "ABX9TyM07JX6WsNN+zg/bUo1fBc/",
      "include_colab_link": true
    },
    "kernelspec": {
      "name": "python3",
      "display_name": "Python 3"
    },
    "widgets": {
      "application/vnd.jupyter.widget-state+json": {
        "324531e3c2fc415e88d8890e8d9a3c71": {
          "model_module": "@jupyter-widgets/controls",
          "model_name": "DropdownModel",
          "state": {
            "_options_labels": [
              "Mode 1",
              "Mode 2"
            ],
            "_view_name": "DropdownView",
            "style": "IPY_MODEL_6459e5281e0146dabee1a0af579eb3a6",
            "_dom_classes": [],
            "description": "",
            "_model_name": "DropdownModel",
            "index": 1,
            "_view_module": "@jupyter-widgets/controls",
            "_model_module_version": "1.5.0",
            "_view_count": null,
            "disabled": false,
            "_view_module_version": "1.5.0",
            "description_tooltip": null,
            "_model_module": "@jupyter-widgets/controls",
            "layout": "IPY_MODEL_c81d3146358544d7a358b4e278a9c6bf"
          }
        },
        "6459e5281e0146dabee1a0af579eb3a6": {
          "model_module": "@jupyter-widgets/controls",
          "model_name": "DescriptionStyleModel",
          "state": {
            "_view_name": "StyleView",
            "_model_name": "DescriptionStyleModel",
            "description_width": "",
            "_view_module": "@jupyter-widgets/base",
            "_model_module_version": "1.5.0",
            "_view_count": null,
            "_view_module_version": "1.2.0",
            "_model_module": "@jupyter-widgets/controls"
          }
        },
        "c81d3146358544d7a358b4e278a9c6bf": {
          "model_module": "@jupyter-widgets/base",
          "model_name": "LayoutModel",
          "state": {
            "_view_name": "LayoutView",
            "grid_template_rows": null,
            "right": null,
            "justify_content": null,
            "_view_module": "@jupyter-widgets/base",
            "overflow": null,
            "_model_module_version": "1.2.0",
            "_view_count": null,
            "flex_flow": null,
            "width": null,
            "min_width": null,
            "border": null,
            "align_items": null,
            "bottom": null,
            "_model_module": "@jupyter-widgets/base",
            "top": null,
            "grid_column": null,
            "overflow_y": null,
            "overflow_x": null,
            "grid_auto_flow": null,
            "grid_area": null,
            "grid_template_columns": null,
            "flex": null,
            "_model_name": "LayoutModel",
            "justify_items": null,
            "grid_row": null,
            "max_height": null,
            "align_content": null,
            "visibility": null,
            "align_self": null,
            "height": null,
            "min_height": null,
            "padding": null,
            "grid_auto_rows": null,
            "grid_gap": null,
            "max_width": null,
            "order": null,
            "_view_module_version": "1.2.0",
            "grid_template_areas": null,
            "object_position": null,
            "object_fit": null,
            "grid_auto_columns": null,
            "margin": null,
            "display": null,
            "left": null
          }
        },
        "4315aadc52a445e381e509160d8509c1": {
          "model_module": "@jupyter-widgets/controls",
          "model_name": "IntTextModel",
          "state": {
            "_view_name": "IntTextView",
            "style": "IPY_MODEL_680f6c9971b741f48528fdc8378d8947",
            "_dom_classes": [],
            "description": "",
            "_model_name": "IntTextModel",
            "_view_module": "@jupyter-widgets/controls",
            "_model_module_version": "1.5.0",
            "value": 5,
            "_view_count": null,
            "disabled": false,
            "_view_module_version": "1.5.0",
            "continuous_update": false,
            "step": 1,
            "description_tooltip": null,
            "_model_module": "@jupyter-widgets/controls",
            "layout": "IPY_MODEL_614fe22da88143da9262f880136be09f"
          }
        },
        "680f6c9971b741f48528fdc8378d8947": {
          "model_module": "@jupyter-widgets/controls",
          "model_name": "DescriptionStyleModel",
          "state": {
            "_view_name": "StyleView",
            "_model_name": "DescriptionStyleModel",
            "description_width": "",
            "_view_module": "@jupyter-widgets/base",
            "_model_module_version": "1.5.0",
            "_view_count": null,
            "_view_module_version": "1.2.0",
            "_model_module": "@jupyter-widgets/controls"
          }
        },
        "614fe22da88143da9262f880136be09f": {
          "model_module": "@jupyter-widgets/base",
          "model_name": "LayoutModel",
          "state": {
            "_view_name": "LayoutView",
            "grid_template_rows": null,
            "right": null,
            "justify_content": null,
            "_view_module": "@jupyter-widgets/base",
            "overflow": null,
            "_model_module_version": "1.2.0",
            "_view_count": null,
            "flex_flow": null,
            "width": null,
            "min_width": null,
            "border": null,
            "align_items": null,
            "bottom": null,
            "_model_module": "@jupyter-widgets/base",
            "top": null,
            "grid_column": null,
            "overflow_y": null,
            "overflow_x": null,
            "grid_auto_flow": null,
            "grid_area": null,
            "grid_template_columns": null,
            "flex": null,
            "_model_name": "LayoutModel",
            "justify_items": null,
            "grid_row": null,
            "max_height": null,
            "align_content": null,
            "visibility": null,
            "align_self": null,
            "height": null,
            "min_height": null,
            "padding": null,
            "grid_auto_rows": null,
            "grid_gap": null,
            "max_width": null,
            "order": null,
            "_view_module_version": "1.2.0",
            "grid_template_areas": null,
            "object_position": null,
            "object_fit": null,
            "grid_auto_columns": null,
            "margin": null,
            "display": null,
            "left": null
          }
        },
        "ded3dfcbcc5545ad959b605084c87bdc": {
          "model_module": "@jupyter-widgets/controls",
          "model_name": "IntProgressModel",
          "state": {
            "_view_name": "ProgressView",
            "style": "IPY_MODEL_f2a71051af244477af8ab0a4c37cdaf5",
            "_dom_classes": [],
            "description": "Loading:",
            "_model_name": "IntProgressModel",
            "bar_style": "",
            "max": 10,
            "_view_module": "@jupyter-widgets/controls",
            "_model_module_version": "1.5.0",
            "value": 7,
            "_view_count": null,
            "_view_module_version": "1.5.0",
            "orientation": "horizontal",
            "min": 0,
            "description_tooltip": null,
            "_model_module": "@jupyter-widgets/controls",
            "layout": "IPY_MODEL_65b3322bcc064aca8eab91847f90d632"
          }
        },
        "f2a71051af244477af8ab0a4c37cdaf5": {
          "model_module": "@jupyter-widgets/controls",
          "model_name": "ProgressStyleModel",
          "state": {
            "_view_name": "StyleView",
            "_model_name": "ProgressStyleModel",
            "description_width": "",
            "_view_module": "@jupyter-widgets/base",
            "_model_module_version": "1.5.0",
            "_view_count": null,
            "_view_module_version": "1.2.0",
            "bar_color": null,
            "_model_module": "@jupyter-widgets/controls"
          }
        },
        "65b3322bcc064aca8eab91847f90d632": {
          "model_module": "@jupyter-widgets/base",
          "model_name": "LayoutModel",
          "state": {
            "_view_name": "LayoutView",
            "grid_template_rows": null,
            "right": null,
            "justify_content": null,
            "_view_module": "@jupyter-widgets/base",
            "overflow": null,
            "_model_module_version": "1.2.0",
            "_view_count": null,
            "flex_flow": null,
            "width": null,
            "min_width": null,
            "border": null,
            "align_items": null,
            "bottom": null,
            "_model_module": "@jupyter-widgets/base",
            "top": null,
            "grid_column": null,
            "overflow_y": null,
            "overflow_x": null,
            "grid_auto_flow": null,
            "grid_area": null,
            "grid_template_columns": null,
            "flex": null,
            "_model_name": "LayoutModel",
            "justify_items": null,
            "grid_row": null,
            "max_height": null,
            "align_content": null,
            "visibility": "hidden",
            "align_self": null,
            "height": null,
            "min_height": null,
            "padding": null,
            "grid_auto_rows": null,
            "grid_gap": null,
            "max_width": null,
            "order": null,
            "_view_module_version": "1.2.0",
            "grid_template_areas": null,
            "object_position": null,
            "object_fit": null,
            "grid_auto_columns": null,
            "margin": null,
            "display": null,
            "left": null
          }
        },
        "a5f0a33d62c6435bbdcfa5ff7d401659": {
          "model_module": "@jupyter-widgets/controls",
          "model_name": "IntProgressModel",
          "state": {
            "_view_name": "ProgressView",
            "style": "IPY_MODEL_6f2b595b9c9c4d9b96feec2f878068dc",
            "_dom_classes": [],
            "description": "Done!:",
            "_model_name": "IntProgressModel",
            "bar_style": "",
            "max": 10,
            "_view_module": "@jupyter-widgets/controls",
            "_model_module_version": "1.5.0",
            "value": 10,
            "_view_count": null,
            "_view_module_version": "1.5.0",
            "orientation": "horizontal",
            "min": 0,
            "description_tooltip": null,
            "_model_module": "@jupyter-widgets/controls",
            "layout": "IPY_MODEL_083f0ba7fc2c4789a9fd056376c7b65c"
          }
        },
        "6f2b595b9c9c4d9b96feec2f878068dc": {
          "model_module": "@jupyter-widgets/controls",
          "model_name": "ProgressStyleModel",
          "state": {
            "_view_name": "StyleView",
            "_model_name": "ProgressStyleModel",
            "description_width": "",
            "_view_module": "@jupyter-widgets/base",
            "_model_module_version": "1.5.0",
            "_view_count": null,
            "_view_module_version": "1.2.0",
            "bar_color": null,
            "_model_module": "@jupyter-widgets/controls"
          }
        },
        "083f0ba7fc2c4789a9fd056376c7b65c": {
          "model_module": "@jupyter-widgets/base",
          "model_name": "LayoutModel",
          "state": {
            "_view_name": "LayoutView",
            "grid_template_rows": null,
            "right": null,
            "justify_content": null,
            "_view_module": "@jupyter-widgets/base",
            "overflow": null,
            "_model_module_version": "1.2.0",
            "_view_count": null,
            "flex_flow": null,
            "width": null,
            "min_width": null,
            "border": null,
            "align_items": null,
            "bottom": null,
            "_model_module": "@jupyter-widgets/base",
            "top": null,
            "grid_column": null,
            "overflow_y": null,
            "overflow_x": null,
            "grid_auto_flow": null,
            "grid_area": null,
            "grid_template_columns": null,
            "flex": null,
            "_model_name": "LayoutModel",
            "justify_items": null,
            "grid_row": null,
            "max_height": null,
            "align_content": null,
            "visibility": null,
            "align_self": null,
            "height": null,
            "min_height": null,
            "padding": null,
            "grid_auto_rows": null,
            "grid_gap": null,
            "max_width": null,
            "order": null,
            "_view_module_version": "1.2.0",
            "grid_template_areas": null,
            "object_position": null,
            "object_fit": null,
            "grid_auto_columns": null,
            "margin": null,
            "display": null,
            "left": null
          }
        },
        "d4beb72e4d654b95a131ce545101b999": {
          "model_module": "@jupyter-widgets/controls",
          "model_name": "LabelModel",
          "state": {
            "_view_name": "LabelView",
            "style": "IPY_MODEL_e6ac348c6f774f20a1c540b72cd2102b",
            "_dom_classes": [],
            "description": "",
            "_model_name": "LabelModel",
            "placeholder": "​",
            "_view_module": "@jupyter-widgets/controls",
            "_model_module_version": "1.5.0",
            "value": "Change for bitcoin: 0.0",
            "_view_count": null,
            "_view_module_version": "1.5.0",
            "description_tooltip": null,
            "_model_module": "@jupyter-widgets/controls",
            "layout": "IPY_MODEL_6b51380716244c44bbc119da9fae8873"
          }
        },
        "e6ac348c6f774f20a1c540b72cd2102b": {
          "model_module": "@jupyter-widgets/controls",
          "model_name": "DescriptionStyleModel",
          "state": {
            "_view_name": "StyleView",
            "_model_name": "DescriptionStyleModel",
            "description_width": "",
            "_view_module": "@jupyter-widgets/base",
            "_model_module_version": "1.5.0",
            "_view_count": null,
            "_view_module_version": "1.2.0",
            "_model_module": "@jupyter-widgets/controls"
          }
        },
        "6b51380716244c44bbc119da9fae8873": {
          "model_module": "@jupyter-widgets/base",
          "model_name": "LayoutModel",
          "state": {
            "_view_name": "LayoutView",
            "grid_template_rows": null,
            "right": null,
            "justify_content": null,
            "_view_module": "@jupyter-widgets/base",
            "overflow": null,
            "_model_module_version": "1.2.0",
            "_view_count": null,
            "flex_flow": null,
            "width": null,
            "min_width": null,
            "border": null,
            "align_items": null,
            "bottom": null,
            "_model_module": "@jupyter-widgets/base",
            "top": null,
            "grid_column": null,
            "overflow_y": null,
            "overflow_x": null,
            "grid_auto_flow": null,
            "grid_area": null,
            "grid_template_columns": null,
            "flex": null,
            "_model_name": "LayoutModel",
            "justify_items": null,
            "grid_row": null,
            "max_height": null,
            "align_content": null,
            "visibility": null,
            "align_self": null,
            "height": null,
            "min_height": null,
            "padding": null,
            "grid_auto_rows": null,
            "grid_gap": null,
            "max_width": null,
            "order": null,
            "_view_module_version": "1.2.0",
            "grid_template_areas": null,
            "object_position": null,
            "object_fit": null,
            "grid_auto_columns": null,
            "margin": null,
            "display": null,
            "left": null
          }
        },
        "b5163d461de54f6b8fcab19cd81525e6": {
          "model_module": "@jupyter-widgets/controls",
          "model_name": "LabelModel",
          "state": {
            "_view_name": "LabelView",
            "style": "IPY_MODEL_1d6e27784d7e459294480792cf6a24a2",
            "_dom_classes": [],
            "description": "",
            "_model_name": "LabelModel",
            "placeholder": "​",
            "_view_module": "@jupyter-widgets/controls",
            "_model_module_version": "1.5.0",
            "value": "Percent change for bitcoin: 0.0",
            "_view_count": null,
            "_view_module_version": "1.5.0",
            "description_tooltip": null,
            "_model_module": "@jupyter-widgets/controls",
            "layout": "IPY_MODEL_3c8177ecde6f48b4871795d7132830d8"
          }
        },
        "1d6e27784d7e459294480792cf6a24a2": {
          "model_module": "@jupyter-widgets/controls",
          "model_name": "DescriptionStyleModel",
          "state": {
            "_view_name": "StyleView",
            "_model_name": "DescriptionStyleModel",
            "description_width": "",
            "_view_module": "@jupyter-widgets/base",
            "_model_module_version": "1.5.0",
            "_view_count": null,
            "_view_module_version": "1.2.0",
            "_model_module": "@jupyter-widgets/controls"
          }
        },
        "3c8177ecde6f48b4871795d7132830d8": {
          "model_module": "@jupyter-widgets/base",
          "model_name": "LayoutModel",
          "state": {
            "_view_name": "LayoutView",
            "grid_template_rows": null,
            "right": null,
            "justify_content": null,
            "_view_module": "@jupyter-widgets/base",
            "overflow": null,
            "_model_module_version": "1.2.0",
            "_view_count": null,
            "flex_flow": null,
            "width": null,
            "min_width": null,
            "border": null,
            "align_items": null,
            "bottom": null,
            "_model_module": "@jupyter-widgets/base",
            "top": null,
            "grid_column": null,
            "overflow_y": null,
            "overflow_x": null,
            "grid_auto_flow": null,
            "grid_area": null,
            "grid_template_columns": null,
            "flex": null,
            "_model_name": "LayoutModel",
            "justify_items": null,
            "grid_row": null,
            "max_height": null,
            "align_content": null,
            "visibility": null,
            "align_self": null,
            "height": null,
            "min_height": null,
            "padding": null,
            "grid_auto_rows": null,
            "grid_gap": null,
            "max_width": null,
            "order": null,
            "_view_module_version": "1.2.0",
            "grid_template_areas": null,
            "object_position": null,
            "object_fit": null,
            "grid_auto_columns": null,
            "margin": null,
            "display": null,
            "left": null
          }
        },
        "7eb05bd546214e0690d68229a9b9c1f6": {
          "model_module": "@jupyter-widgets/controls",
          "model_name": "LabelModel",
          "state": {
            "_view_name": "LabelView",
            "style": "IPY_MODEL_5cd918f162384b189f87f4708bc9d73f",
            "_dom_classes": [],
            "description": "",
            "_model_name": "LabelModel",
            "placeholder": "​",
            "_view_module": "@jupyter-widgets/controls",
            "_model_module_version": "1.5.0",
            "value": "Change for ethereum: 0.0",
            "_view_count": null,
            "_view_module_version": "1.5.0",
            "description_tooltip": null,
            "_model_module": "@jupyter-widgets/controls",
            "layout": "IPY_MODEL_da703f25d5d547928df62a723c6bba36"
          }
        },
        "5cd918f162384b189f87f4708bc9d73f": {
          "model_module": "@jupyter-widgets/controls",
          "model_name": "DescriptionStyleModel",
          "state": {
            "_view_name": "StyleView",
            "_model_name": "DescriptionStyleModel",
            "description_width": "",
            "_view_module": "@jupyter-widgets/base",
            "_model_module_version": "1.5.0",
            "_view_count": null,
            "_view_module_version": "1.2.0",
            "_model_module": "@jupyter-widgets/controls"
          }
        },
        "da703f25d5d547928df62a723c6bba36": {
          "model_module": "@jupyter-widgets/base",
          "model_name": "LayoutModel",
          "state": {
            "_view_name": "LayoutView",
            "grid_template_rows": null,
            "right": null,
            "justify_content": null,
            "_view_module": "@jupyter-widgets/base",
            "overflow": null,
            "_model_module_version": "1.2.0",
            "_view_count": null,
            "flex_flow": null,
            "width": null,
            "min_width": null,
            "border": null,
            "align_items": null,
            "bottom": null,
            "_model_module": "@jupyter-widgets/base",
            "top": null,
            "grid_column": null,
            "overflow_y": null,
            "overflow_x": null,
            "grid_auto_flow": null,
            "grid_area": null,
            "grid_template_columns": null,
            "flex": null,
            "_model_name": "LayoutModel",
            "justify_items": null,
            "grid_row": null,
            "max_height": null,
            "align_content": null,
            "visibility": null,
            "align_self": null,
            "height": null,
            "min_height": null,
            "padding": null,
            "grid_auto_rows": null,
            "grid_gap": null,
            "max_width": null,
            "order": null,
            "_view_module_version": "1.2.0",
            "grid_template_areas": null,
            "object_position": null,
            "object_fit": null,
            "grid_auto_columns": null,
            "margin": null,
            "display": null,
            "left": null
          }
        },
        "4818170b969b441f832fc1c59d6ba35a": {
          "model_module": "@jupyter-widgets/controls",
          "model_name": "LabelModel",
          "state": {
            "_view_name": "LabelView",
            "style": "IPY_MODEL_fe13fe633dde4473baf604840c822060",
            "_dom_classes": [],
            "description": "",
            "_model_name": "LabelModel",
            "placeholder": "​",
            "_view_module": "@jupyter-widgets/controls",
            "_model_module_version": "1.5.0",
            "value": "Percent change for ethereum: 0.0",
            "_view_count": null,
            "_view_module_version": "1.5.0",
            "description_tooltip": null,
            "_model_module": "@jupyter-widgets/controls",
            "layout": "IPY_MODEL_964608b4938f44768b613a1d9f7d06d7"
          }
        },
        "fe13fe633dde4473baf604840c822060": {
          "model_module": "@jupyter-widgets/controls",
          "model_name": "DescriptionStyleModel",
          "state": {
            "_view_name": "StyleView",
            "_model_name": "DescriptionStyleModel",
            "description_width": "",
            "_view_module": "@jupyter-widgets/base",
            "_model_module_version": "1.5.0",
            "_view_count": null,
            "_view_module_version": "1.2.0",
            "_model_module": "@jupyter-widgets/controls"
          }
        },
        "964608b4938f44768b613a1d9f7d06d7": {
          "model_module": "@jupyter-widgets/base",
          "model_name": "LayoutModel",
          "state": {
            "_view_name": "LayoutView",
            "grid_template_rows": null,
            "right": null,
            "justify_content": null,
            "_view_module": "@jupyter-widgets/base",
            "overflow": null,
            "_model_module_version": "1.2.0",
            "_view_count": null,
            "flex_flow": null,
            "width": null,
            "min_width": null,
            "border": null,
            "align_items": null,
            "bottom": null,
            "_model_module": "@jupyter-widgets/base",
            "top": null,
            "grid_column": null,
            "overflow_y": null,
            "overflow_x": null,
            "grid_auto_flow": null,
            "grid_area": null,
            "grid_template_columns": null,
            "flex": null,
            "_model_name": "LayoutModel",
            "justify_items": null,
            "grid_row": null,
            "max_height": null,
            "align_content": null,
            "visibility": null,
            "align_self": null,
            "height": null,
            "min_height": null,
            "padding": null,
            "grid_auto_rows": null,
            "grid_gap": null,
            "max_width": null,
            "order": null,
            "_view_module_version": "1.2.0",
            "grid_template_areas": null,
            "object_position": null,
            "object_fit": null,
            "grid_auto_columns": null,
            "margin": null,
            "display": null,
            "left": null
          }
        },
        "85ddc4c6bdaf45ed82670d3e98650e5e": {
          "model_module": "@jupyter-widgets/controls",
          "model_name": "LabelModel",
          "state": {
            "_view_name": "LabelView",
            "style": "IPY_MODEL_87c24067db55471297102f2208a2f64c",
            "_dom_classes": [],
            "description": "",
            "_model_name": "LabelModel",
            "placeholder": "​",
            "_view_module": "@jupyter-widgets/controls",
            "_model_module_version": "1.5.0",
            "value": "Min price btc: 0",
            "_view_count": null,
            "_view_module_version": "1.5.0",
            "description_tooltip": null,
            "_model_module": "@jupyter-widgets/controls",
            "layout": "IPY_MODEL_a847b20cbee34916b21392455eb0ac76"
          }
        },
        "87c24067db55471297102f2208a2f64c": {
          "model_module": "@jupyter-widgets/controls",
          "model_name": "DescriptionStyleModel",
          "state": {
            "_view_name": "StyleView",
            "_model_name": "DescriptionStyleModel",
            "description_width": "",
            "_view_module": "@jupyter-widgets/base",
            "_model_module_version": "1.5.0",
            "_view_count": null,
            "_view_module_version": "1.2.0",
            "_model_module": "@jupyter-widgets/controls"
          }
        },
        "a847b20cbee34916b21392455eb0ac76": {
          "model_module": "@jupyter-widgets/base",
          "model_name": "LayoutModel",
          "state": {
            "_view_name": "LayoutView",
            "grid_template_rows": null,
            "right": null,
            "justify_content": null,
            "_view_module": "@jupyter-widgets/base",
            "overflow": null,
            "_model_module_version": "1.2.0",
            "_view_count": null,
            "flex_flow": null,
            "width": null,
            "min_width": null,
            "border": null,
            "align_items": null,
            "bottom": null,
            "_model_module": "@jupyter-widgets/base",
            "top": null,
            "grid_column": null,
            "overflow_y": null,
            "overflow_x": null,
            "grid_auto_flow": null,
            "grid_area": null,
            "grid_template_columns": null,
            "flex": null,
            "_model_name": "LayoutModel",
            "justify_items": null,
            "grid_row": null,
            "max_height": null,
            "align_content": null,
            "visibility": null,
            "align_self": null,
            "height": null,
            "min_height": null,
            "padding": null,
            "grid_auto_rows": null,
            "grid_gap": null,
            "max_width": null,
            "order": null,
            "_view_module_version": "1.2.0",
            "grid_template_areas": null,
            "object_position": null,
            "object_fit": null,
            "grid_auto_columns": null,
            "margin": null,
            "display": null,
            "left": null
          }
        },
        "51a376460a02491186b10afa87bc4191": {
          "model_module": "@jupyter-widgets/controls",
          "model_name": "LabelModel",
          "state": {
            "_view_name": "LabelView",
            "style": "IPY_MODEL_8ee69b211cf64fc3be67a11ce04f521d",
            "_dom_classes": [],
            "description": "",
            "_model_name": "LabelModel",
            "placeholder": "​",
            "_view_module": "@jupyter-widgets/controls",
            "_model_module_version": "1.5.0",
            "value": "Min time btc: 17:23:13.153149",
            "_view_count": null,
            "_view_module_version": "1.5.0",
            "description_tooltip": null,
            "_model_module": "@jupyter-widgets/controls",
            "layout": "IPY_MODEL_b1d34f70f1054009b301bad3882c08e2"
          }
        },
        "8ee69b211cf64fc3be67a11ce04f521d": {
          "model_module": "@jupyter-widgets/controls",
          "model_name": "DescriptionStyleModel",
          "state": {
            "_view_name": "StyleView",
            "_model_name": "DescriptionStyleModel",
            "description_width": "",
            "_view_module": "@jupyter-widgets/base",
            "_model_module_version": "1.5.0",
            "_view_count": null,
            "_view_module_version": "1.2.0",
            "_model_module": "@jupyter-widgets/controls"
          }
        },
        "b1d34f70f1054009b301bad3882c08e2": {
          "model_module": "@jupyter-widgets/base",
          "model_name": "LayoutModel",
          "state": {
            "_view_name": "LayoutView",
            "grid_template_rows": null,
            "right": null,
            "justify_content": null,
            "_view_module": "@jupyter-widgets/base",
            "overflow": null,
            "_model_module_version": "1.2.0",
            "_view_count": null,
            "flex_flow": null,
            "width": null,
            "min_width": null,
            "border": null,
            "align_items": null,
            "bottom": null,
            "_model_module": "@jupyter-widgets/base",
            "top": null,
            "grid_column": null,
            "overflow_y": null,
            "overflow_x": null,
            "grid_auto_flow": null,
            "grid_area": null,
            "grid_template_columns": null,
            "flex": null,
            "_model_name": "LayoutModel",
            "justify_items": null,
            "grid_row": null,
            "max_height": null,
            "align_content": null,
            "visibility": null,
            "align_self": null,
            "height": null,
            "min_height": null,
            "padding": null,
            "grid_auto_rows": null,
            "grid_gap": null,
            "max_width": null,
            "order": null,
            "_view_module_version": "1.2.0",
            "grid_template_areas": null,
            "object_position": null,
            "object_fit": null,
            "grid_auto_columns": null,
            "margin": null,
            "display": null,
            "left": null
          }
        },
        "d3044544266a4782b4f0b61d351cfcf6": {
          "model_module": "@jupyter-widgets/controls",
          "model_name": "LabelModel",
          "state": {
            "_view_name": "LabelView",
            "style": "IPY_MODEL_22a19bb429fd4c48ab570b462d19364d",
            "_dom_classes": [],
            "description": "",
            "_model_name": "LabelModel",
            "placeholder": "​",
            "_view_module": "@jupyter-widgets/controls",
            "_model_module_version": "1.5.0",
            "value": "Max price btc: 35,691.70 United States Dollar",
            "_view_count": null,
            "_view_module_version": "1.5.0",
            "description_tooltip": null,
            "_model_module": "@jupyter-widgets/controls",
            "layout": "IPY_MODEL_a76783a00f374e33a44068ac02e98026"
          }
        },
        "22a19bb429fd4c48ab570b462d19364d": {
          "model_module": "@jupyter-widgets/controls",
          "model_name": "DescriptionStyleModel",
          "state": {
            "_view_name": "StyleView",
            "_model_name": "DescriptionStyleModel",
            "description_width": "",
            "_view_module": "@jupyter-widgets/base",
            "_model_module_version": "1.5.0",
            "_view_count": null,
            "_view_module_version": "1.2.0",
            "_model_module": "@jupyter-widgets/controls"
          }
        },
        "a76783a00f374e33a44068ac02e98026": {
          "model_module": "@jupyter-widgets/base",
          "model_name": "LayoutModel",
          "state": {
            "_view_name": "LayoutView",
            "grid_template_rows": null,
            "right": null,
            "justify_content": null,
            "_view_module": "@jupyter-widgets/base",
            "overflow": null,
            "_model_module_version": "1.2.0",
            "_view_count": null,
            "flex_flow": null,
            "width": null,
            "min_width": null,
            "border": null,
            "align_items": null,
            "bottom": null,
            "_model_module": "@jupyter-widgets/base",
            "top": null,
            "grid_column": null,
            "overflow_y": null,
            "overflow_x": null,
            "grid_auto_flow": null,
            "grid_area": null,
            "grid_template_columns": null,
            "flex": null,
            "_model_name": "LayoutModel",
            "justify_items": null,
            "grid_row": null,
            "max_height": null,
            "align_content": null,
            "visibility": null,
            "align_self": null,
            "height": null,
            "min_height": null,
            "padding": null,
            "grid_auto_rows": null,
            "grid_gap": null,
            "max_width": null,
            "order": null,
            "_view_module_version": "1.2.0",
            "grid_template_areas": null,
            "object_position": null,
            "object_fit": null,
            "grid_auto_columns": null,
            "margin": null,
            "display": null,
            "left": null
          }
        },
        "ac31f446318e498e9d7cc899a4ce8a08": {
          "model_module": "@jupyter-widgets/controls",
          "model_name": "LabelModel",
          "state": {
            "_view_name": "LabelView",
            "style": "IPY_MODEL_d08a412dd87d4874a4f76bd35bf6b899",
            "_dom_classes": [],
            "description": "",
            "_model_name": "LabelModel",
            "placeholder": "​",
            "_view_module": "@jupyter-widgets/controls",
            "_model_module_version": "1.5.0",
            "value": "Max time btc: 17:43:30.722183",
            "_view_count": null,
            "_view_module_version": "1.5.0",
            "description_tooltip": null,
            "_model_module": "@jupyter-widgets/controls",
            "layout": "IPY_MODEL_7021383e81314ec6be5d9f5106463a00"
          }
        },
        "d08a412dd87d4874a4f76bd35bf6b899": {
          "model_module": "@jupyter-widgets/controls",
          "model_name": "DescriptionStyleModel",
          "state": {
            "_view_name": "StyleView",
            "_model_name": "DescriptionStyleModel",
            "description_width": "",
            "_view_module": "@jupyter-widgets/base",
            "_model_module_version": "1.5.0",
            "_view_count": null,
            "_view_module_version": "1.2.0",
            "_model_module": "@jupyter-widgets/controls"
          }
        },
        "7021383e81314ec6be5d9f5106463a00": {
          "model_module": "@jupyter-widgets/base",
          "model_name": "LayoutModel",
          "state": {
            "_view_name": "LayoutView",
            "grid_template_rows": null,
            "right": null,
            "justify_content": null,
            "_view_module": "@jupyter-widgets/base",
            "overflow": null,
            "_model_module_version": "1.2.0",
            "_view_count": null,
            "flex_flow": null,
            "width": null,
            "min_width": null,
            "border": null,
            "align_items": null,
            "bottom": null,
            "_model_module": "@jupyter-widgets/base",
            "top": null,
            "grid_column": null,
            "overflow_y": null,
            "overflow_x": null,
            "grid_auto_flow": null,
            "grid_area": null,
            "grid_template_columns": null,
            "flex": null,
            "_model_name": "LayoutModel",
            "justify_items": null,
            "grid_row": null,
            "max_height": null,
            "align_content": null,
            "visibility": null,
            "align_self": null,
            "height": null,
            "min_height": null,
            "padding": null,
            "grid_auto_rows": null,
            "grid_gap": null,
            "max_width": null,
            "order": null,
            "_view_module_version": "1.2.0",
            "grid_template_areas": null,
            "object_position": null,
            "object_fit": null,
            "grid_auto_columns": null,
            "margin": null,
            "display": null,
            "left": null
          }
        },
        "0c6fe0c8e4c04f1585a08b0b6a469ad0": {
          "model_module": "@jupyter-widgets/controls",
          "model_name": "LabelModel",
          "state": {
            "_view_name": "LabelView",
            "style": "IPY_MODEL_f77f6e59a22e40edb423e0b7d1435612",
            "_dom_classes": [],
            "description": "",
            "_model_name": "LabelModel",
            "placeholder": "​",
            "_view_module": "@jupyter-widgets/controls",
            "_model_module_version": "1.5.0",
            "value": "Min price btc: 0",
            "_view_count": null,
            "_view_module_version": "1.5.0",
            "description_tooltip": null,
            "_model_module": "@jupyter-widgets/controls",
            "layout": "IPY_MODEL_de753f7b5d954002b3afec4df81c0850"
          }
        },
        "f77f6e59a22e40edb423e0b7d1435612": {
          "model_module": "@jupyter-widgets/controls",
          "model_name": "DescriptionStyleModel",
          "state": {
            "_view_name": "StyleView",
            "_model_name": "DescriptionStyleModel",
            "description_width": "",
            "_view_module": "@jupyter-widgets/base",
            "_model_module_version": "1.5.0",
            "_view_count": null,
            "_view_module_version": "1.2.0",
            "_model_module": "@jupyter-widgets/controls"
          }
        },
        "de753f7b5d954002b3afec4df81c0850": {
          "model_module": "@jupyter-widgets/base",
          "model_name": "LayoutModel",
          "state": {
            "_view_name": "LayoutView",
            "grid_template_rows": null,
            "right": null,
            "justify_content": null,
            "_view_module": "@jupyter-widgets/base",
            "overflow": null,
            "_model_module_version": "1.2.0",
            "_view_count": null,
            "flex_flow": null,
            "width": null,
            "min_width": null,
            "border": null,
            "align_items": null,
            "bottom": null,
            "_model_module": "@jupyter-widgets/base",
            "top": null,
            "grid_column": null,
            "overflow_y": null,
            "overflow_x": null,
            "grid_auto_flow": null,
            "grid_area": null,
            "grid_template_columns": null,
            "flex": null,
            "_model_name": "LayoutModel",
            "justify_items": null,
            "grid_row": null,
            "max_height": null,
            "align_content": null,
            "visibility": null,
            "align_self": null,
            "height": null,
            "min_height": null,
            "padding": null,
            "grid_auto_rows": null,
            "grid_gap": null,
            "max_width": null,
            "order": null,
            "_view_module_version": "1.2.0",
            "grid_template_areas": null,
            "object_position": null,
            "object_fit": null,
            "grid_auto_columns": null,
            "margin": null,
            "display": null,
            "left": null
          }
        },
        "311fbf95dd704e55bd4858fa95fd8885": {
          "model_module": "@jupyter-widgets/controls",
          "model_name": "LabelModel",
          "state": {
            "_view_name": "LabelView",
            "style": "IPY_MODEL_9bc7aa1ec0d245daab13252eda33e734",
            "_dom_classes": [],
            "description": "",
            "_model_name": "LabelModel",
            "placeholder": "​",
            "_view_module": "@jupyter-widgets/controls",
            "_model_module_version": "1.5.0",
            "value": "Min time btc: 17:23:13.153169",
            "_view_count": null,
            "_view_module_version": "1.5.0",
            "description_tooltip": null,
            "_model_module": "@jupyter-widgets/controls",
            "layout": "IPY_MODEL_c742cc95cd184b7ba60edfedde74941f"
          }
        },
        "9bc7aa1ec0d245daab13252eda33e734": {
          "model_module": "@jupyter-widgets/controls",
          "model_name": "DescriptionStyleModel",
          "state": {
            "_view_name": "StyleView",
            "_model_name": "DescriptionStyleModel",
            "description_width": "",
            "_view_module": "@jupyter-widgets/base",
            "_model_module_version": "1.5.0",
            "_view_count": null,
            "_view_module_version": "1.2.0",
            "_model_module": "@jupyter-widgets/controls"
          }
        },
        "c742cc95cd184b7ba60edfedde74941f": {
          "model_module": "@jupyter-widgets/base",
          "model_name": "LayoutModel",
          "state": {
            "_view_name": "LayoutView",
            "grid_template_rows": null,
            "right": null,
            "justify_content": null,
            "_view_module": "@jupyter-widgets/base",
            "overflow": null,
            "_model_module_version": "1.2.0",
            "_view_count": null,
            "flex_flow": null,
            "width": null,
            "min_width": null,
            "border": null,
            "align_items": null,
            "bottom": null,
            "_model_module": "@jupyter-widgets/base",
            "top": null,
            "grid_column": null,
            "overflow_y": null,
            "overflow_x": null,
            "grid_auto_flow": null,
            "grid_area": null,
            "grid_template_columns": null,
            "flex": null,
            "_model_name": "LayoutModel",
            "justify_items": null,
            "grid_row": null,
            "max_height": null,
            "align_content": null,
            "visibility": null,
            "align_self": null,
            "height": null,
            "min_height": null,
            "padding": null,
            "grid_auto_rows": null,
            "grid_gap": null,
            "max_width": null,
            "order": null,
            "_view_module_version": "1.2.0",
            "grid_template_areas": null,
            "object_position": null,
            "object_fit": null,
            "grid_auto_columns": null,
            "margin": null,
            "display": null,
            "left": null
          }
        },
        "8d3f4dfd252e4cff848c92491d687b54": {
          "model_module": "@jupyter-widgets/controls",
          "model_name": "LabelModel",
          "state": {
            "_view_name": "LabelView",
            "style": "IPY_MODEL_1e526cfc3a8248149892735b9ba84e94",
            "_dom_classes": [],
            "description": "",
            "_model_name": "LabelModel",
            "placeholder": "​",
            "_view_module": "@jupyter-widgets/controls",
            "_model_module_version": "1.5.0",
            "value": "Max price btc: 1,150.43 United States Dollar",
            "_view_count": null,
            "_view_module_version": "1.5.0",
            "description_tooltip": null,
            "_model_module": "@jupyter-widgets/controls",
            "layout": "IPY_MODEL_08c6e3e8785d4e8cab440b37c24492c6"
          }
        },
        "1e526cfc3a8248149892735b9ba84e94": {
          "model_module": "@jupyter-widgets/controls",
          "model_name": "DescriptionStyleModel",
          "state": {
            "_view_name": "StyleView",
            "_model_name": "DescriptionStyleModel",
            "description_width": "",
            "_view_module": "@jupyter-widgets/base",
            "_model_module_version": "1.5.0",
            "_view_count": null,
            "_view_module_version": "1.2.0",
            "_model_module": "@jupyter-widgets/controls"
          }
        },
        "08c6e3e8785d4e8cab440b37c24492c6": {
          "model_module": "@jupyter-widgets/base",
          "model_name": "LayoutModel",
          "state": {
            "_view_name": "LayoutView",
            "grid_template_rows": null,
            "right": null,
            "justify_content": null,
            "_view_module": "@jupyter-widgets/base",
            "overflow": null,
            "_model_module_version": "1.2.0",
            "_view_count": null,
            "flex_flow": null,
            "width": null,
            "min_width": null,
            "border": null,
            "align_items": null,
            "bottom": null,
            "_model_module": "@jupyter-widgets/base",
            "top": null,
            "grid_column": null,
            "overflow_y": null,
            "overflow_x": null,
            "grid_auto_flow": null,
            "grid_area": null,
            "grid_template_columns": null,
            "flex": null,
            "_model_name": "LayoutModel",
            "justify_items": null,
            "grid_row": null,
            "max_height": null,
            "align_content": null,
            "visibility": null,
            "align_self": null,
            "height": null,
            "min_height": null,
            "padding": null,
            "grid_auto_rows": null,
            "grid_gap": null,
            "max_width": null,
            "order": null,
            "_view_module_version": "1.2.0",
            "grid_template_areas": null,
            "object_position": null,
            "object_fit": null,
            "grid_auto_columns": null,
            "margin": null,
            "display": null,
            "left": null
          }
        },
        "1336574e141c498d9bc37e195aed628b": {
          "model_module": "@jupyter-widgets/controls",
          "model_name": "LabelModel",
          "state": {
            "_view_name": "LabelView",
            "style": "IPY_MODEL_697e1d0b83dc4c09b616d9b5a55ca4b5",
            "_dom_classes": [],
            "description": "",
            "_model_name": "LabelModel",
            "placeholder": "​",
            "_view_module": "@jupyter-widgets/controls",
            "_model_module_version": "1.5.0",
            "value": "Max time btc: 17:43:30.722198",
            "_view_count": null,
            "_view_module_version": "1.5.0",
            "description_tooltip": null,
            "_model_module": "@jupyter-widgets/controls",
            "layout": "IPY_MODEL_d2025e1d4e824a42a31810020cdede01"
          }
        },
        "697e1d0b83dc4c09b616d9b5a55ca4b5": {
          "model_module": "@jupyter-widgets/controls",
          "model_name": "DescriptionStyleModel",
          "state": {
            "_view_name": "StyleView",
            "_model_name": "DescriptionStyleModel",
            "description_width": "",
            "_view_module": "@jupyter-widgets/base",
            "_model_module_version": "1.5.0",
            "_view_count": null,
            "_view_module_version": "1.2.0",
            "_model_module": "@jupyter-widgets/controls"
          }
        },
        "d2025e1d4e824a42a31810020cdede01": {
          "model_module": "@jupyter-widgets/base",
          "model_name": "LayoutModel",
          "state": {
            "_view_name": "LayoutView",
            "grid_template_rows": null,
            "right": null,
            "justify_content": null,
            "_view_module": "@jupyter-widgets/base",
            "overflow": null,
            "_model_module_version": "1.2.0",
            "_view_count": null,
            "flex_flow": null,
            "width": null,
            "min_width": null,
            "border": null,
            "align_items": null,
            "bottom": null,
            "_model_module": "@jupyter-widgets/base",
            "top": null,
            "grid_column": null,
            "overflow_y": null,
            "overflow_x": null,
            "grid_auto_flow": null,
            "grid_area": null,
            "grid_template_columns": null,
            "flex": null,
            "_model_name": "LayoutModel",
            "justify_items": null,
            "grid_row": null,
            "max_height": null,
            "align_content": null,
            "visibility": null,
            "align_self": null,
            "height": null,
            "min_height": null,
            "padding": null,
            "grid_auto_rows": null,
            "grid_gap": null,
            "max_width": null,
            "order": null,
            "_view_module_version": "1.2.0",
            "grid_template_areas": null,
            "object_position": null,
            "object_fit": null,
            "grid_auto_columns": null,
            "margin": null,
            "display": null,
            "left": null
          }
        }
      }
    }
  },
  "cells": [
    {
      "cell_type": "markdown",
      "metadata": {
        "id": "view-in-github",
        "colab_type": "text"
      },
      "source": [
        "<a href=\"https://colab.research.google.com/github/AARohanAA/BTC/blob/main/Crypto.ipynb\" target=\"_parent\"><img src=\"https://colab.research.google.com/assets/colab-badge.svg\" alt=\"Open In Colab\"/></a>"
      ]
    },
    {
      "cell_type": "code",
      "metadata": {
        "id": "1VYK6PuNzwBP"
      },
      "source": [
        "from bs4 import BeautifulSoup\r\n",
        "import requests \r\n",
        "import time\r\n",
        "import ipywidgets as widgets\r\n",
        "import datetime\r\n",
        "import matplotlib.pyplot as plt\r\n"
      ],
      "execution_count": 65,
      "outputs": []
    },
    {
      "cell_type": "code",
      "metadata": {
        "id": "NFoJQPmP0rOF"
      },
      "source": [
        "def get_crypto_price(coin):\r\n",
        "\r\n",
        "    url = \"https://www.google.com/search?q=\"+coin+\"+price usd\"\r\n",
        "    HTML = requests.get(url) \r\n",
        "    soup = BeautifulSoup(HTML.text, 'html.parser') \r\n",
        "    text = soup.find(\"div\", attrs={'class':'BNeawe iBp4i AP7Wnd'}).find(\"div\", attrs={'class':'BNeawe iBp4i AP7Wnd'}).text\r\n",
        "    return text\r\n",
        "    \r\n",
        "def conv(price):\r\n",
        "    price = price.split()\r\n",
        "    price = price[0]\r\n",
        "    x = 0\r\n",
        "    for i in range(len(price)):\r\n",
        "        if price[i] == ',':\r\n",
        "           x = i\r\n",
        "    return price[:x] + price[x+1:]"
      ],
      "execution_count": 66,
      "outputs": []
    },
    {
      "cell_type": "code",
      "metadata": {
        "colab": {
          "base_uri": "https://localhost:8080/",
          "height": 49,
          "referenced_widgets": [
            "324531e3c2fc415e88d8890e8d9a3c71",
            "6459e5281e0146dabee1a0af579eb3a6",
            "c81d3146358544d7a358b4e278a9c6bf"
          ]
        },
        "id": "yrcKl-mjzxHn",
        "outputId": "8e8e4efa-d46b-455b-acd7-e8801908004a"
      },
      "source": [
        "mode = widgets.Dropdown(options = ['Mode 1', 'Mode 2'])\r\n",
        "display(mode)"
      ],
      "execution_count": 70,
      "outputs": [
        {
          "output_type": "display_data",
          "data": {
            "application/vnd.jupyter.widget-view+json": {
              "model_id": "324531e3c2fc415e88d8890e8d9a3c71",
              "version_minor": 0,
              "version_major": 2
            },
            "text/plain": [
              "Dropdown(options=('Mode 1', 'Mode 2'), value='Mode 1')"
            ]
          },
          "metadata": {
            "tags": []
          }
        }
      ]
    },
    {
      "cell_type": "code",
      "metadata": {
        "colab": {
          "base_uri": "https://localhost:8080/",
          "height": 49,
          "referenced_widgets": [
            "4315aadc52a445e381e509160d8509c1",
            "680f6c9971b741f48528fdc8378d8947",
            "614fe22da88143da9262f880136be09f"
          ]
        },
        "id": "NerFNq5dz_er",
        "outputId": "fefb941b-af4f-405f-aeb7-4eb4683beaf0"
      },
      "source": [
        "ismode1 = True\r\n",
        "if mode.value == 'Mode 1':\r\n",
        "    Crypto = widgets.Dropdown(options = ['bitcoin', 'ethereum'])\r\n",
        "    Time = widgets.IntText()\r\n",
        "    display(Crypto)\r\n",
        "    display(Time)\r\n",
        "    ismode1 = True\r\n",
        "else:\r\n",
        "    Time = widgets.IntText()\r\n",
        "    display(Time)\r\n",
        "    ismode1 = False\r\n"
      ],
      "execution_count": 73,
      "outputs": [
        {
          "output_type": "display_data",
          "data": {
            "application/vnd.jupyter.widget-view+json": {
              "model_id": "4315aadc52a445e381e509160d8509c1",
              "version_minor": 0,
              "version_major": 2
            },
            "text/plain": [
              "IntText(value=0)"
            ]
          },
          "metadata": {
            "tags": []
          }
        }
      ]
    },
    {
      "cell_type": "code",
      "metadata": {
        "colab": {
          "base_uri": "https://localhost:8080/",
          "height": 703,
          "referenced_widgets": [
            "ded3dfcbcc5545ad959b605084c87bdc",
            "f2a71051af244477af8ab0a4c37cdaf5",
            "65b3322bcc064aca8eab91847f90d632",
            "a5f0a33d62c6435bbdcfa5ff7d401659",
            "6f2b595b9c9c4d9b96feec2f878068dc",
            "083f0ba7fc2c4789a9fd056376c7b65c",
            "d4beb72e4d654b95a131ce545101b999",
            "e6ac348c6f774f20a1c540b72cd2102b",
            "6b51380716244c44bbc119da9fae8873",
            "b5163d461de54f6b8fcab19cd81525e6",
            "1d6e27784d7e459294480792cf6a24a2",
            "3c8177ecde6f48b4871795d7132830d8",
            "7eb05bd546214e0690d68229a9b9c1f6",
            "5cd918f162384b189f87f4708bc9d73f",
            "da703f25d5d547928df62a723c6bba36",
            "4818170b969b441f832fc1c59d6ba35a",
            "fe13fe633dde4473baf604840c822060",
            "964608b4938f44768b613a1d9f7d06d7",
            "85ddc4c6bdaf45ed82670d3e98650e5e",
            "87c24067db55471297102f2208a2f64c",
            "a847b20cbee34916b21392455eb0ac76",
            "51a376460a02491186b10afa87bc4191",
            "8ee69b211cf64fc3be67a11ce04f521d",
            "b1d34f70f1054009b301bad3882c08e2",
            "d3044544266a4782b4f0b61d351cfcf6",
            "22a19bb429fd4c48ab570b462d19364d",
            "a76783a00f374e33a44068ac02e98026",
            "ac31f446318e498e9d7cc899a4ce8a08",
            "d08a412dd87d4874a4f76bd35bf6b899",
            "7021383e81314ec6be5d9f5106463a00",
            "0c6fe0c8e4c04f1585a08b0b6a469ad0",
            "f77f6e59a22e40edb423e0b7d1435612",
            "de753f7b5d954002b3afec4df81c0850",
            "311fbf95dd704e55bd4858fa95fd8885",
            "9bc7aa1ec0d245daab13252eda33e734",
            "c742cc95cd184b7ba60edfedde74941f",
            "8d3f4dfd252e4cff848c92491d687b54",
            "1e526cfc3a8248149892735b9ba84e94",
            "08c6e3e8785d4e8cab440b37c24492c6",
            "1336574e141c498d9bc37e195aed628b",
            "697e1d0b83dc4c09b616d9b5a55ca4b5",
            "d2025e1d4e824a42a31810020cdede01"
          ]
        },
        "id": "9WbcfG2v122h",
        "outputId": "06368c7e-973f-4f0e-864c-b5f51afe0e7c"
      },
      "source": [
        "if ismode1:\r\n",
        "  crypto = Crypto.value\r\n",
        "  times = Time.value\r\n",
        "  last_price = -1\r\n",
        "  x = []\r\n",
        "  y = []\r\n",
        "  v = 1\r\n",
        "  end_time = time.time() +  times\r\n",
        "  min_price = 0\r\n",
        "  max_price = 0\r\n",
        "  prog = widgets.IntProgress(\r\n",
        "    value=7,\r\n",
        "    min=0,\r\n",
        "    max=10,\r\n",
        "    step=1,\r\n",
        "    description='Loading:',\r\n",
        "    bar_style='', # 'success', 'info', 'warning', 'danger' or ''\r\n",
        "    orientation='horizontal'\r\n",
        "  )\r\n",
        "  display(prog)\r\n",
        "  while time.time() < end_time:\r\n",
        "    \r\n",
        "    price = get_crypto_price(crypto)\r\n",
        "    last_price = price \r\n",
        "    y.append(float(conv(price))/10000)\r\n",
        "\r\n",
        "    x.append(v)\r\n",
        "    v+=1\r\n",
        "    \r\n",
        "    if float(conv(price)) <= min(y):\r\n",
        "        min_price = price\r\n",
        "        min_time = datetime.datetime.now().time()\r\n",
        "    if float(conv(price)) >= max(y):\r\n",
        "        max_price = price\r\n",
        "        max_time = datetime.datetime.now().time()\r\n",
        "  prog.layout.visibility = 'hidden'\r\n",
        "  prog = widgets.IntProgress(\r\n",
        "    value=10,\r\n",
        "    min=0,\r\n",
        "    max=10,\r\n",
        "    step=1,\r\n",
        "    description='Done!:',\r\n",
        "    bar_style='', # 'success', 'info', 'warning', 'danger' or ''\r\n",
        "    orientation='horizontal'\r\n",
        "  )\r\n",
        "  display(prog)\r\n",
        "  change = widgets.Label()\r\n",
        "  perchange = widgets.Label()\r\n",
        "  minprice = widgets.Label()\r\n",
        "  maxprice = widgets.Label()\r\n",
        "  mintime = widgets.Label()\r\n",
        "  maxtime = widgets.Label()\r\n",
        "  change.value = f'Change: {float(y[-1])-float(y[0])}'\r\n",
        "  perchange.value = f'Percent change: {(float(y[-1])-float(y[0]))/float(y[0])}'\r\n",
        "  minprice.value = f'Min price: {min_price}'\r\n",
        "  mintime.value = f'Time at min(Greenwich): {max_time}'\r\n",
        "  maxprice.value = f'Max price: {max_price}'\r\n",
        "  maxtime.value = f'Time at max(Greenwich): {max_time}'\r\n",
        "  display(change)\r\n",
        "  display(perchange)\r\n",
        "  display(minprice)\r\n",
        "  display(mintime)\r\n",
        "  display(maxprice)\r\n",
        "  display(maxtime)\r\n",
        "  plt.title('Plot (x1000)')\r\n",
        "  plt.plot(x,y)\r\n",
        "  plt.show()\r\n",
        "else:\r\n",
        "    times = Time.value\r\n",
        "    last_price_btc = -1\r\n",
        "    last_price_eth = -1\r\n",
        "    ybtc = []\r\n",
        "    yeth =[]\r\n",
        "    x = []\r\n",
        "    v = 1\r\n",
        "    min_pricebtc = 0\r\n",
        "    max_pricebtc = 0\r\n",
        "    min_priceeth = 0\r\n",
        "    max_priceeth = 0\r\n",
        "    cryptobtc = 'bitcoin'\r\n",
        "    cryptoeth = 'ethereum'\r\n",
        "    end_time = time.time() +  times\r\n",
        "    prog = widgets.IntProgress(\r\n",
        "    value=7,\r\n",
        "    min=0,\r\n",
        "    max=10,\r\n",
        "    step=1,\r\n",
        "    description='Loading:',\r\n",
        "    bar_style='', # 'success', 'info', 'warning', 'danger' or ''\r\n",
        "    orientation='horizontal'\r\n",
        "    )\r\n",
        "    display(prog)\r\n",
        "    while time.time() < end_time: \r\n",
        "        pricebtc = get_crypto_price(cryptobtc)\r\n",
        "        priceeth = get_crypto_price(cryptoeth)\r\n",
        "        last_pricebtc = pricebtc\r\n",
        "        last_priceeth = priceeth\r\n",
        "        ybtc.append(float(conv(pricebtc))/10000)\r\n",
        "        yeth.append(float(conv(priceeth))/10000)\r\n",
        "\r\n",
        "        x.append(v)\r\n",
        "        v+=1\r\n",
        "        if float(conv(pricebtc)) <= min(ybtc):\r\n",
        "            min_pricebtc = pricebtc\r\n",
        "            min_timebtc = datetime.datetime.now().time()\r\n",
        "        if float(conv(pricebtc)) >= max(ybtc):\r\n",
        "            max_pricebtc = pricebtc\r\n",
        "            max_timebtc = datetime.datetime.now().time()\r\n",
        "        if float(conv(priceeth)) <= min(yeth):\r\n",
        "            min_priceeth = priceeth\r\n",
        "            min_timeeth = datetime.datetime.now().time()\r\n",
        "        if float(conv(priceeth)) >= max(yeth):\r\n",
        "            max_priceeth = priceeth\r\n",
        "            max_timeeth = datetime.datetime.now().time()\r\n",
        "    prog.layout.visibility = 'hidden'\r\n",
        "    prog = widgets.IntProgress(\r\n",
        "      value=10,\r\n",
        "      min=0,\r\n",
        "      max=10,\r\n",
        "      step=1,\r\n",
        "      description='Done!:',\r\n",
        "      bar_style='', # 'success', 'info', 'warning', 'danger' or ''\r\n",
        "      orientation='horizontal'\r\n",
        "    )\r\n",
        "    display(prog)\r\n",
        "    changebtc = widgets.Label()\r\n",
        "    changeeth = widgets.Label()\r\n",
        "    perchangebtc = widgets.Label()\r\n",
        "    perchangeeth = widgets.Label()\r\n",
        "    minpricebtc = widgets.Label()\r\n",
        "    minpriceeth = widgets.Label()\r\n",
        "    maxpricebtc = widgets.Label()\r\n",
        "    maxpriceeth = widgets.Label()\r\n",
        "    mintimebtc = widgets.Label()\r\n",
        "    maxtimebtc = widgets.Label()\r\n",
        "    mintimeeth = widgets.Label()\r\n",
        "    maxtimeeth = widgets.Label()\r\n",
        "    changebtc.value = f'Change for bitcoin: {float(ybtc[-1])-float(ybtc[0])}'\r\n",
        "    perchangebtc.value = f'Percent change for bitcoin: {(float(ybtc[-1])-float(ybtc[0]))/float(ybtc[0])}'\r\n",
        "    changeeth.value = f'Change for ethereum: {float(yeth[-1])-float(yeth[0])}'\r\n",
        "    perchangeeth.value = f'Percent change for ethereum: {(float(yeth[-1])-float(yeth[0]))/float(yeth[0])}'\r\n",
        "    minpricebtc.value = f'Min price btc: {min_pricebtc}'\r\n",
        "    mintimebtc.value = f'Min time btc: {min_timebtc}'\r\n",
        "    maxpricebtc.value = f'Max price btc: {max_pricebtc}'\r\n",
        "    maxtimebtc.value = f'Max time btc: {max_timebtc}'\r\n",
        "    minpriceeth.value = f'Min price btc: {min_priceeth}'\r\n",
        "    mintimeeth.value = f'Min time btc: {min_timeeth}'\r\n",
        "    maxpriceeth.value = f'Max price btc: {max_priceeth}'\r\n",
        "    maxtimeeth.value = f'Max time btc: {max_timeeth}'    \r\n",
        "    \r\n",
        "    display(changebtc)\r\n",
        "    display(perchangebtc)\r\n",
        "    display(changeeth)\r\n",
        "    display(perchangeeth)\r\n",
        "    display(minpricebtc)\r\n",
        "    display(mintimebtc)\r\n",
        "    display(maxpricebtc)\r\n",
        "    display(maxtimebtc)\r\n",
        "    display(minpriceeth)\r\n",
        "    display(mintimeeth)\r\n",
        "    display(maxpriceeth)\r\n",
        "    display(maxtimeeth)\r\n",
        "\r\n",
        "    plt.title('BTC vs ETH (x10000)')\r\n",
        "    plt.plot(x,ybtc, x, yeth)\r\n",
        "    plt.show()\r\n",
        "\r\n"
      ],
      "execution_count": 74,
      "outputs": [
        {
          "output_type": "display_data",
          "data": {
            "application/vnd.jupyter.widget-view+json": {
              "model_id": "ded3dfcbcc5545ad959b605084c87bdc",
              "version_minor": 0,
              "version_major": 2
            },
            "text/plain": [
              "IntProgress(value=7, description='Loading:', max=10)"
            ]
          },
          "metadata": {
            "tags": []
          }
        },
        {
          "output_type": "display_data",
          "data": {
            "application/vnd.jupyter.widget-view+json": {
              "model_id": "a5f0a33d62c6435bbdcfa5ff7d401659",
              "version_minor": 0,
              "version_major": 2
            },
            "text/plain": [
              "IntProgress(value=10, description='Done!:', max=10)"
            ]
          },
          "metadata": {
            "tags": []
          }
        },
        {
          "output_type": "display_data",
          "data": {
            "application/vnd.jupyter.widget-view+json": {
              "model_id": "d4beb72e4d654b95a131ce545101b999",
              "version_minor": 0,
              "version_major": 2
            },
            "text/plain": [
              "Label(value='Change for bitcoin: 0.0')"
            ]
          },
          "metadata": {
            "tags": []
          }
        },
        {
          "output_type": "display_data",
          "data": {
            "application/vnd.jupyter.widget-view+json": {
              "model_id": "b5163d461de54f6b8fcab19cd81525e6",
              "version_minor": 0,
              "version_major": 2
            },
            "text/plain": [
              "Label(value='Percent change for bitcoin: 0.0')"
            ]
          },
          "metadata": {
            "tags": []
          }
        },
        {
          "output_type": "display_data",
          "data": {
            "application/vnd.jupyter.widget-view+json": {
              "model_id": "7eb05bd546214e0690d68229a9b9c1f6",
              "version_minor": 0,
              "version_major": 2
            },
            "text/plain": [
              "Label(value='Change for ethereum: 0.0')"
            ]
          },
          "metadata": {
            "tags": []
          }
        },
        {
          "output_type": "display_data",
          "data": {
            "application/vnd.jupyter.widget-view+json": {
              "model_id": "4818170b969b441f832fc1c59d6ba35a",
              "version_minor": 0,
              "version_major": 2
            },
            "text/plain": [
              "Label(value='Percent change for ethereum: 0.0')"
            ]
          },
          "metadata": {
            "tags": []
          }
        },
        {
          "output_type": "display_data",
          "data": {
            "application/vnd.jupyter.widget-view+json": {
              "model_id": "85ddc4c6bdaf45ed82670d3e98650e5e",
              "version_minor": 0,
              "version_major": 2
            },
            "text/plain": [
              "Label(value='Min price btc: 0')"
            ]
          },
          "metadata": {
            "tags": []
          }
        },
        {
          "output_type": "display_data",
          "data": {
            "application/vnd.jupyter.widget-view+json": {
              "model_id": "51a376460a02491186b10afa87bc4191",
              "version_minor": 0,
              "version_major": 2
            },
            "text/plain": [
              "Label(value='Min time btc: 17:23:13.153149')"
            ]
          },
          "metadata": {
            "tags": []
          }
        },
        {
          "output_type": "display_data",
          "data": {
            "application/vnd.jupyter.widget-view+json": {
              "model_id": "d3044544266a4782b4f0b61d351cfcf6",
              "version_minor": 0,
              "version_major": 2
            },
            "text/plain": [
              "Label(value='Max price btc: 35,691.70 United States Dollar')"
            ]
          },
          "metadata": {
            "tags": []
          }
        },
        {
          "output_type": "display_data",
          "data": {
            "application/vnd.jupyter.widget-view+json": {
              "model_id": "ac31f446318e498e9d7cc899a4ce8a08",
              "version_minor": 0,
              "version_major": 2
            },
            "text/plain": [
              "Label(value='Max time btc: 17:43:30.722183')"
            ]
          },
          "metadata": {
            "tags": []
          }
        },
        {
          "output_type": "display_data",
          "data": {
            "application/vnd.jupyter.widget-view+json": {
              "model_id": "0c6fe0c8e4c04f1585a08b0b6a469ad0",
              "version_minor": 0,
              "version_major": 2
            },
            "text/plain": [
              "Label(value='Min price btc: 0')"
            ]
          },
          "metadata": {
            "tags": []
          }
        },
        {
          "output_type": "display_data",
          "data": {
            "application/vnd.jupyter.widget-view+json": {
              "model_id": "311fbf95dd704e55bd4858fa95fd8885",
              "version_minor": 0,
              "version_major": 2
            },
            "text/plain": [
              "Label(value='Min time btc: 17:23:13.153169')"
            ]
          },
          "metadata": {
            "tags": []
          }
        },
        {
          "output_type": "display_data",
          "data": {
            "application/vnd.jupyter.widget-view+json": {
              "model_id": "8d3f4dfd252e4cff848c92491d687b54",
              "version_minor": 0,
              "version_major": 2
            },
            "text/plain": [
              "Label(value='Max price btc: 1,150.43 United States Dollar')"
            ]
          },
          "metadata": {
            "tags": []
          }
        },
        {
          "output_type": "display_data",
          "data": {
            "application/vnd.jupyter.widget-view+json": {
              "model_id": "1336574e141c498d9bc37e195aed628b",
              "version_minor": 0,
              "version_major": 2
            },
            "text/plain": [
              "Label(value='Max time btc: 17:43:30.722198')"
            ]
          },
          "metadata": {
            "tags": []
          }
        },
        {
          "output_type": "display_data",
          "data": {
            "image/png": "[encoded data removed]",
            "text/plain": [
              "<Figure size 432x288 with 1 Axes>"
            ]
          },
          "metadata": {
            "tags": [],
            "needs_background": "light"
          }
        }
      ]
    },
    {
      "cell_type": "code",
      "metadata": {
        "id": "Hts75PXL9xE1"
      },
      "source": [
        ""
      ],
      "execution_count": null,
      "outputs": []
    }
  ]
}