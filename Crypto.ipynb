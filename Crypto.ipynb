{
  "nbformat": 4,
  "nbformat_minor": 0,
  "metadata": {
    "colab": {
      "name": "Crypto.ipynb",
      "provenance": [],
      "collapsed_sections": [],
      "authorship_tag": "ABX9TyP0rjV+mKGZz3kBbQZthpxh",
      "include_colab_link": true
    },
    "kernelspec": {
      "name": "python3",
      "display_name": "Python 3"
    },
    "widgets": {
      "application/vnd.jupyter.widget-state+json": {
        "58f755cbbb564a94b871b7ad87e83218": {
          "model_module": "@jupyter-widgets/controls",
          "model_name": "DropdownModel",
          "state": {
            "_options_labels": [
              "Mode 1",
              "Mode 2"
            ],
            "_view_name": "DropdownView",
            "style": "IPY_MODEL_7789dad82ec54ce2b5660d6f7bfbf42c",
            "_dom_classes": [],
            "description": "",
            "_model_name": "DropdownModel",
            "index": 0,
            "_view_module": "@jupyter-widgets/controls",
            "_model_module_version": "1.5.0",
            "_view_count": null,
            "disabled": false,
            "_view_module_version": "1.5.0",
            "description_tooltip": null,
            "_model_module": "@jupyter-widgets/controls",
            "layout": "IPY_MODEL_c9ecc85dc97045b09c18d0f5bba351eb"
          }
        },
        "7789dad82ec54ce2b5660d6f7bfbf42c": {
          "model_module": "@jupyter-widgets/controls",
          "model_name": "DescriptionStyleModel",
          "state": {
            "_view_name": "StyleView",
            "_model_name": "DescriptionStyleModel",
            "description_width": "",
            "_view_module": "@jupyter-widgets/base",
            "_model_module_version": "1.5.0",
            "_view_count": null,
            "_view_module_version": "1.2.0",
            "_model_module": "@jupyter-widgets/controls"
          }
        },
        "c9ecc85dc97045b09c18d0f5bba351eb": {
          "model_module": "@jupyter-widgets/base",
          "model_name": "LayoutModel",
          "state": {
            "_view_name": "LayoutView",
            "grid_template_rows": null,
            "right": null,
            "justify_content": null,
            "_view_module": "@jupyter-widgets/base",
            "overflow": null,
            "_model_module_version": "1.2.0",
            "_view_count": null,
            "flex_flow": null,
            "width": null,
            "min_width": null,
            "border": null,
            "align_items": null,
            "bottom": null,
            "_model_module": "@jupyter-widgets/base",
            "top": null,
            "grid_column": null,
            "overflow_y": null,
            "overflow_x": null,
            "grid_auto_flow": null,
            "grid_area": null,
            "grid_template_columns": null,
            "flex": null,
            "_model_name": "LayoutModel",
            "justify_items": null,
            "grid_row": null,
            "max_height": null,
            "align_content": null,
            "visibility": null,
            "align_self": null,
            "height": null,
            "min_height": null,
            "padding": null,
            "grid_auto_rows": null,
            "grid_gap": null,
            "max_width": null,
            "order": null,
            "_view_module_version": "1.2.0",
            "grid_template_areas": null,
            "object_position": null,
            "object_fit": null,
            "grid_auto_columns": null,
            "margin": null,
            "display": null,
            "left": null
          }
        },
        "932390079d4245ba9191833a61d69ced": {
          "model_module": "@jupyter-widgets/controls",
          "model_name": "DropdownModel",
          "state": {
            "_options_labels": [
              "bitcoin",
              "ethereum"
            ],
            "_view_name": "DropdownView",
            "style": "IPY_MODEL_f949cb71e39e4ce8b76933576344b149",
            "_dom_classes": [],
            "description": "",
            "_model_name": "DropdownModel",
            "index": 0,
            "_view_module": "@jupyter-widgets/controls",
            "_model_module_version": "1.5.0",
            "_view_count": null,
            "disabled": false,
            "_view_module_version": "1.5.0",
            "description_tooltip": null,
            "_model_module": "@jupyter-widgets/controls",
            "layout": "IPY_MODEL_bcbae29042a249e18b4d94615e1716c2"
          }
        },
        "f949cb71e39e4ce8b76933576344b149": {
          "model_module": "@jupyter-widgets/controls",
          "model_name": "DescriptionStyleModel",
          "state": {
            "_view_name": "StyleView",
            "_model_name": "DescriptionStyleModel",
            "description_width": "",
            "_view_module": "@jupyter-widgets/base",
            "_model_module_version": "1.5.0",
            "_view_count": null,
            "_view_module_version": "1.2.0",
            "_model_module": "@jupyter-widgets/controls"
          }
        },
        "bcbae29042a249e18b4d94615e1716c2": {
          "model_module": "@jupyter-widgets/base",
          "model_name": "LayoutModel",
          "state": {
            "_view_name": "LayoutView",
            "grid_template_rows": null,
            "right": null,
            "justify_content": null,
            "_view_module": "@jupyter-widgets/base",
            "overflow": null,
            "_model_module_version": "1.2.0",
            "_view_count": null,
            "flex_flow": null,
            "width": null,
            "min_width": null,
            "border": null,
            "align_items": null,
            "bottom": null,
            "_model_module": "@jupyter-widgets/base",
            "top": null,
            "grid_column": null,
            "overflow_y": null,
            "overflow_x": null,
            "grid_auto_flow": null,
            "grid_area": null,
            "grid_template_columns": null,
            "flex": null,
            "_model_name": "LayoutModel",
            "justify_items": null,
            "grid_row": null,
            "max_height": null,
            "align_content": null,
            "visibility": null,
            "align_self": null,
            "height": null,
            "min_height": null,
            "padding": null,
            "grid_auto_rows": null,
            "grid_gap": null,
            "max_width": null,
            "order": null,
            "_view_module_version": "1.2.0",
            "grid_template_areas": null,
            "object_position": null,
            "object_fit": null,
            "grid_auto_columns": null,
            "margin": null,
            "display": null,
            "left": null
          }
        },
        "5f542df9f6514994b992a96896201a74": {
          "model_module": "@jupyter-widgets/controls",
          "model_name": "IntTextModel",
          "state": {
            "_view_name": "IntTextView",
            "style": "IPY_MODEL_851e4b88b5c3468a92caced1ff570e74",
            "_dom_classes": [],
            "description": "",
            "_model_name": "IntTextModel",
            "_view_module": "@jupyter-widgets/controls",
            "_model_module_version": "1.5.0",
            "value": 5,
            "_view_count": null,
            "disabled": false,
            "_view_module_version": "1.5.0",
            "continuous_update": false,
            "step": 1,
            "description_tooltip": null,
            "_model_module": "@jupyter-widgets/controls",
            "layout": "IPY_MODEL_fbe7c795344e408e8049ed97ccfed012"
          }
        },
        "851e4b88b5c3468a92caced1ff570e74": {
          "model_module": "@jupyter-widgets/controls",
          "model_name": "DescriptionStyleModel",
          "state": {
            "_view_name": "StyleView",
            "_model_name": "DescriptionStyleModel",
            "description_width": "",
            "_view_module": "@jupyter-widgets/base",
            "_model_module_version": "1.5.0",
            "_view_count": null,
            "_view_module_version": "1.2.0",
            "_model_module": "@jupyter-widgets/controls"
          }
        },
        "fbe7c795344e408e8049ed97ccfed012": {
          "model_module": "@jupyter-widgets/base",
          "model_name": "LayoutModel",
          "state": {
            "_view_name": "LayoutView",
            "grid_template_rows": null,
            "right": null,
            "justify_content": null,
            "_view_module": "@jupyter-widgets/base",
            "overflow": null,
            "_model_module_version": "1.2.0",
            "_view_count": null,
            "flex_flow": null,
            "width": null,
            "min_width": null,
            "border": null,
            "align_items": null,
            "bottom": null,
            "_model_module": "@jupyter-widgets/base",
            "top": null,
            "grid_column": null,
            "overflow_y": null,
            "overflow_x": null,
            "grid_auto_flow": null,
            "grid_area": null,
            "grid_template_columns": null,
            "flex": null,
            "_model_name": "LayoutModel",
            "justify_items": null,
            "grid_row": null,
            "max_height": null,
            "align_content": null,
            "visibility": null,
            "align_self": null,
            "height": null,
            "min_height": null,
            "padding": null,
            "grid_auto_rows": null,
            "grid_gap": null,
            "max_width": null,
            "order": null,
            "_view_module_version": "1.2.0",
            "grid_template_areas": null,
            "object_position": null,
            "object_fit": null,
            "grid_auto_columns": null,
            "margin": null,
            "display": null,
            "left": null
          }
        },
        "a151aa844b5548f99d2baa9460ca9939": {
          "model_module": "@jupyter-widgets/controls",
          "model_name": "ButtonModel",
          "state": {
            "_view_name": "ButtonView",
            "style": "IPY_MODEL_1c5a6687165f444f9801a63320d98dd8",
            "_dom_classes": [],
            "description": "Analyse",
            "_model_name": "ButtonModel",
            "button_style": "",
            "_view_module": "@jupyter-widgets/controls",
            "_model_module_version": "1.5.0",
            "tooltip": "",
            "_view_count": null,
            "disabled": false,
            "_view_module_version": "1.5.0",
            "layout": "IPY_MODEL_c26a12d507a74bc0bd6b02d545b5f24d",
            "_model_module": "@jupyter-widgets/controls",
            "icon": ""
          }
        },
        "1c5a6687165f444f9801a63320d98dd8": {
          "model_module": "@jupyter-widgets/controls",
          "model_name": "ButtonStyleModel",
          "state": {
            "_view_name": "StyleView",
            "_model_name": "ButtonStyleModel",
            "_view_module": "@jupyter-widgets/base",
            "_model_module_version": "1.5.0",
            "_view_count": null,
            "button_color": null,
            "font_weight": "",
            "_view_module_version": "1.2.0",
            "_model_module": "@jupyter-widgets/controls"
          }
        },
        "c26a12d507a74bc0bd6b02d545b5f24d": {
          "model_module": "@jupyter-widgets/base",
          "model_name": "LayoutModel",
          "state": {
            "_view_name": "LayoutView",
            "grid_template_rows": null,
            "right": null,
            "justify_content": null,
            "_view_module": "@jupyter-widgets/base",
            "overflow": null,
            "_model_module_version": "1.2.0",
            "_view_count": null,
            "flex_flow": null,
            "width": null,
            "min_width": null,
            "border": null,
            "align_items": null,
            "bottom": null,
            "_model_module": "@jupyter-widgets/base",
            "top": null,
            "grid_column": null,
            "overflow_y": null,
            "overflow_x": null,
            "grid_auto_flow": null,
            "grid_area": null,
            "grid_template_columns": null,
            "flex": null,
            "_model_name": "LayoutModel",
            "justify_items": null,
            "grid_row": null,
            "max_height": null,
            "align_content": null,
            "visibility": null,
            "align_self": null,
            "height": null,
            "min_height": null,
            "padding": null,
            "grid_auto_rows": null,
            "grid_gap": null,
            "max_width": null,
            "order": null,
            "_view_module_version": "1.2.0",
            "grid_template_areas": null,
            "object_position": null,
            "object_fit": null,
            "grid_auto_columns": null,
            "margin": null,
            "display": null,
            "left": null
          }
        },
        "7a44850deb80407095c71388ab1dc7d1": {
          "model_module": "@jupyter-widgets/controls",
          "model_name": "IntProgressModel",
          "state": {
            "_view_name": "ProgressView",
            "style": "IPY_MODEL_c6d0eef286074a9f8751c3657511b21c",
            "_dom_classes": [],
            "description": "Loading:",
            "_model_name": "IntProgressModel",
            "bar_style": "",
            "max": 10,
            "_view_module": "@jupyter-widgets/controls",
            "_model_module_version": "1.5.0",
            "value": 7,
            "_view_count": null,
            "_view_module_version": "1.5.0",
            "orientation": "horizontal",
            "min": 0,
            "description_tooltip": null,
            "_model_module": "@jupyter-widgets/controls",
            "layout": "IPY_MODEL_1778d221af9747eaa8a69e07a06f4dd8"
          }
        },
        "c6d0eef286074a9f8751c3657511b21c": {
          "model_module": "@jupyter-widgets/controls",
          "model_name": "ProgressStyleModel",
          "state": {
            "_view_name": "StyleView",
            "_model_name": "ProgressStyleModel",
            "description_width": "",
            "_view_module": "@jupyter-widgets/base",
            "_model_module_version": "1.5.0",
            "_view_count": null,
            "_view_module_version": "1.2.0",
            "bar_color": null,
            "_model_module": "@jupyter-widgets/controls"
          }
        },
        "1778d221af9747eaa8a69e07a06f4dd8": {
          "model_module": "@jupyter-widgets/base",
          "model_name": "LayoutModel",
          "state": {
            "_view_name": "LayoutView",
            "grid_template_rows": null,
            "right": null,
            "justify_content": null,
            "_view_module": "@jupyter-widgets/base",
            "overflow": null,
            "_model_module_version": "1.2.0",
            "_view_count": null,
            "flex_flow": null,
            "width": null,
            "min_width": null,
            "border": null,
            "align_items": null,
            "bottom": null,
            "_model_module": "@jupyter-widgets/base",
            "top": null,
            "grid_column": null,
            "overflow_y": null,
            "overflow_x": null,
            "grid_auto_flow": null,
            "grid_area": null,
            "grid_template_columns": null,
            "flex": null,
            "_model_name": "LayoutModel",
            "justify_items": null,
            "grid_row": null,
            "max_height": null,
            "align_content": null,
            "visibility": null,
            "align_self": null,
            "height": null,
            "min_height": null,
            "padding": null,
            "grid_auto_rows": null,
            "grid_gap": null,
            "max_width": null,
            "order": null,
            "_view_module_version": "1.2.0",
            "grid_template_areas": null,
            "object_position": null,
            "object_fit": null,
            "grid_auto_columns": null,
            "margin": null,
            "display": null,
            "left": null
          }
        }
      }
    },
    "accelerator": "GPU"
  },
  "cells": [
    {
      "cell_type": "markdown",
      "metadata": {
        "id": "view-in-github",
        "colab_type": "text"
      },
      "source": [
        "<a href=\"https://colab.research.google.com/github/AARohanAA/BTC/blob/main/Crypto.ipynb\" target=\"_parent\"><img src=\"https://colab.research.google.com/assets/colab-badge.svg\" alt=\"Open In Colab\"/></a>"
      ]
    },
    {
      "cell_type": "code",
      "metadata": {
        "id": "1VYK6PuNzwBP"
      },
      "source": [
        "from bs4 import BeautifulSoup\r\n",
        "import requests \r\n",
        "import time\r\n",
        "import ipywidgets as widgets\r\n",
        "import datetime\r\n",
        "import matplotlib.pyplot as plt\r\n"
      ],
      "execution_count": null,
      "outputs": []
    },
    {
      "cell_type": "code",
      "metadata": {
        "id": "NFoJQPmP0rOF"
      },
      "source": [
        "def get_crypto_price(coin):\r\n",
        "\r\n",
        "    url = \"https://www.google.com/search?q=\"+coin+\"+price usd\"\r\n",
        "    HTML = requests.get(url) \r\n",
        "    soup = BeautifulSoup(HTML.text, 'html.parser') \r\n",
        "    text = soup.find(\"div\", attrs={'class':'BNeawe iBp4i AP7Wnd'}).find(\"div\", attrs={'class':'BNeawe iBp4i AP7Wnd'}).text\r\n",
        "    return text\r\n",
        "    \r\n",
        "def conv(price):\r\n",
        "    price = price.split()\r\n",
        "    price = price[0]\r\n",
        "    x = 0\r\n",
        "    for i in range(len(price)):\r\n",
        "        if price[i] == ',':\r\n",
        "           x = i\r\n",
        "    return price[:x] + price[x+1:]"
      ],
      "execution_count": null,
      "outputs": []
    },
    {
      "cell_type": "code",
      "metadata": {
        "colab": {
          "base_uri": "https://localhost:8080/",
          "height": 49,
          "referenced_widgets": [
            "58f755cbbb564a94b871b7ad87e83218",
            "7789dad82ec54ce2b5660d6f7bfbf42c",
            "c9ecc85dc97045b09c18d0f5bba351eb"
          ]
        },
        "id": "yrcKl-mjzxHn",
        "outputId": "558722c9-06bf-41e3-8b02-580e4fbac050"
      },
      "source": [
        "mode = widgets.Dropdown(options = ['Mode 1', 'Mode 2'])\r\n",
        "display(mode)"
      ],
      "execution_count": null,
      "outputs": [
        {
          "output_type": "display_data",
          "data": {
            "application/vnd.jupyter.widget-view+json": {
              "model_id": "58f755cbbb564a94b871b7ad87e83218",
              "version_minor": 0,
              "version_major": 2
            },
            "text/plain": [
              "Dropdown(options=('Mode 1', 'Mode 2'), value='Mode 1')"
            ]
          },
          "metadata": {
            "tags": []
          }
        }
      ]
    },
    {
      "cell_type": "code",
      "metadata": {
        "colab": {
          "base_uri": "https://localhost:8080/",
          "height": 79,
          "referenced_widgets": [
            "932390079d4245ba9191833a61d69ced",
            "f949cb71e39e4ce8b76933576344b149",
            "bcbae29042a249e18b4d94615e1716c2",
            "5f542df9f6514994b992a96896201a74",
            "851e4b88b5c3468a92caced1ff570e74",
            "fbe7c795344e408e8049ed97ccfed012"
          ]
        },
        "id": "NerFNq5dz_er",
        "outputId": "dcc53efe-218c-4f97-bdb4-10aff444dbfc"
      },
      "source": [
        "ismode1 = True\r\n",
        "if mode.value == 'Mode 1':\r\n",
        "    Crypto = widgets.Dropdown(options = ['bitcoin', 'ethereum'], value = 'bitcoin')\r\n",
        "    Time = widgets.IntText(value = 5)\r\n",
        "    display(Crypto)\r\n",
        "    display(Time)\r\n",
        "    ismode1 = True\r\n",
        "else:\r\n",
        "    Time = widgets.IntText(value = 5)\r\n",
        "    display(Time)\r\n",
        "    ismode1 = False\r\n"
      ],
      "execution_count": null,
      "outputs": [
        {
          "output_type": "display_data",
          "data": {
            "application/vnd.jupyter.widget-view+json": {
              "model_id": "932390079d4245ba9191833a61d69ced",
              "version_minor": 0,
              "version_major": 2
            },
            "text/plain": [
              "Dropdown(options=('bitcoin', 'ethereum'), value='bitcoin')"
            ]
          },
          "metadata": {
            "tags": []
          }
        },
        {
          "output_type": "display_data",
          "data": {
            "application/vnd.jupyter.widget-view+json": {
              "model_id": "5f542df9f6514994b992a96896201a74",
              "version_minor": 0,
              "version_major": 2
            },
            "text/plain": [
              "IntText(value=5)"
            ]
          },
          "metadata": {
            "tags": []
          }
        }
      ]
    },
    {
      "cell_type": "code",
      "metadata": {
        "id": "9WbcfG2v122h"
      },
      "source": [
        "def analyse(b):\r\n",
        "  if ismode1:\r\n",
        "    crypto = Crypto.value\r\n",
        "    times = Time.value\r\n",
        "    last_price = -1\r\n",
        "    x = []\r\n",
        "    y = []\r\n",
        "    v = 1\r\n",
        "    end_time = time.time() +  times\r\n",
        "    min_price = 100000\r\n",
        "    max_price = 100000\r\n",
        "    prog = widgets.IntProgress(\r\n",
        "      value=7,\r\n",
        "      min=0,\r\n",
        "      max=10,\r\n",
        "      step=1,\r\n",
        "      description='Loading:',\r\n",
        "      bar_style='', # 'success', 'info', 'warning', 'danger' or ''\r\n",
        "      orientation='horizontal'\r\n",
        "    )\r\n",
        "    display(prog)\r\n",
        "    while time.time() < end_time:\r\n",
        "    \r\n",
        "      price = get_crypto_price(crypto)\r\n",
        "      last_price = price \r\n",
        "      y.append(float(conv(price))/10000)\r\n",
        "\r\n",
        "      x.append(v)\r\n",
        "      v+=1\r\n",
        "    \r\n",
        "      if float(conv(price)) <= min(y)*10000:\r\n",
        "          min_price = price\r\n",
        "          min_time = datetime.datetime.now().time()\r\n",
        "      if float(conv(price)) >= max(y)*10000:\r\n",
        "          max_price = price\r\n",
        "          max_time = datetime.datetime.now().time()\r\n",
        "    prog.layout.visibility = 'hidden'\r\n",
        "    prog = widgets.IntProgress(\r\n",
        "      value=10,\r\n",
        "      min=0,\r\n",
        "      max=10,\r\n",
        "      step=1,\r\n",
        "      description='Done!:',\r\n",
        "      bar_style='', # 'success', 'info', 'warning', 'danger' or ''\r\n",
        "      orientation='horizontal'\r\n",
        "      )\r\n",
        "    display(prog)\r\n",
        "    change = widgets.Label()\r\n",
        "    perchange = widgets.Label()\r\n",
        "    minprice = widgets.Label()\r\n",
        "    maxprice = widgets.Label()\r\n",
        "    mintime = widgets.Label()\r\n",
        "    maxtime = widgets.Label()\r\n",
        "    change.value = f'Change: {(float(y[-1])-float(y[0]))*10000}'\r\n",
        "    perchange.value = f'Percent change: {(float(y[-1])-float(y[0]))*100/float(y[0])}'\r\n",
        "    minprice.value = f'Min price: {min_price}'\r\n",
        "    mintime.value = f'Time at min: {max_time}'\r\n",
        "    maxprice.value = f'Max price: {max_price}'\r\n",
        "    maxtime.value = f'Time at max: {max_time}'\r\n",
        "    display(change)\r\n",
        "    display(perchange)\r\n",
        "    display(minprice)\r\n",
        "    display(mintime)\r\n",
        "    display(maxprice)\r\n",
        "    display(maxtime)\r\n",
        "    plt.title('Plot (x10000)')\r\n",
        "    plt.plot(x,y)\r\n",
        "    plt.show()\r\n",
        "  else:\r\n",
        "    times = Time.value\r\n",
        "    last_price_btc = -1\r\n",
        "    last_price_eth = -1\r\n",
        "    ybtc = []\r\n",
        "    yeth =[]\r\n",
        "    x = []\r\n",
        "    v = 1\r\n",
        "    min_pricebtc = 100000\r\n",
        "    max_pricebtc = 0\r\n",
        "    min_priceeth = 100000\r\n",
        "    max_priceeth = 0\r\n",
        "    min_timebtc = None\r\n",
        "    min_timeeth = None\r\n",
        "    max_timebtc = None\r\n",
        "    max_timeeth = None\r\n",
        "    cryptobtc = 'bitcoin'\r\n",
        "    cryptoeth = 'ethereum'\r\n",
        "    end_time = time.time() +  times\r\n",
        "    prog = widgets.IntProgress(\r\n",
        "      value=7,\r\n",
        "      min=0,\r\n",
        "      max=10,\r\n",
        "      step=1,\r\n",
        "      description='Loading:',\r\n",
        "      bar_style='', # 'success', 'info', 'warning', 'danger' or ''\r\n",
        "      orientation='horizontal'\r\n",
        "      )\r\n",
        "    display(prog)\r\n",
        "    while time.time() < end_time: \r\n",
        "        pricebtc = get_crypto_price(cryptobtc)\r\n",
        "        priceeth = get_crypto_price(cryptoeth)\r\n",
        "        last_pricebtc = pricebtc\r\n",
        "        last_priceeth = priceeth\r\n",
        "        ybtc.append(float(conv(pricebtc))/10000)\r\n",
        "        yeth.append(float(conv(priceeth))/10000)\r\n",
        "\r\n",
        "        x.append(v)\r\n",
        "        v+=1\r\n",
        "        if float(conv(pricebtc)) <= min(ybtc)*10000:\r\n",
        "            min_pricebtc = pricebtc\r\n",
        "            min_timebtc = datetime.datetime.now().time()\r\n",
        "        if float(conv(pricebtc)) >= max(ybtc)*10000:\r\n",
        "            max_pricebtc = pricebtc\r\n",
        "            max_timebtc = datetime.datetime.now().time()\r\n",
        "        if float(conv(priceeth)) <= min(yeth)*10000:\r\n",
        "            min_priceeth = priceeth\r\n",
        "            min_timeeth = datetime.datetime.now().time()\r\n",
        "        if float(conv(priceeth)) >= max(yeth)*10000:\r\n",
        "            max_priceeth = priceeth\r\n",
        "            max_timeeth = datetime.datetime.now().time()\r\n",
        "    prog.layout.visibility = 'hidden'\r\n",
        "    prog = widgets.IntProgress(\r\n",
        "        value=10,\r\n",
        "        min=0,\r\n",
        "        max=10,\r\n",
        "        step=1,\r\n",
        "        description='Done!:',\r\n",
        "        bar_style='', # 'success', 'info', 'warning', 'danger' or ''\r\n",
        "        orientation='horizontal'\r\n",
        "        )\r\n",
        "    display(prog)\r\n",
        "    changebtc = widgets.Label()\r\n",
        "    changeeth = widgets.Label()\r\n",
        "    perchangebtc = widgets.Label()\r\n",
        "    perchangeeth = widgets.Label()\r\n",
        "    minpricebtc = widgets.Label()\r\n",
        "    minpriceeth = widgets.Label()\r\n",
        "    maxpricebtc = widgets.Label()\r\n",
        "    maxpriceeth = widgets.Label()\r\n",
        "    mintimebtc = widgets.Label()\r\n",
        "    maxtimebtc = widgets.Label()\r\n",
        "    mintimeeth = widgets.Label()\r\n",
        "    maxtimeeth = widgets.Label()\r\n",
        "    changebtc.value = f'Change for bitcoin: {(float(ybtc[-1])-float(ybtc[0]))*10000}'\r\n",
        "    perchangebtc.value = f'Percent change for bitcoin: {(float(ybtc[-1])-float(ybtc[0]))*100/float(ybtc[0])}'\r\n",
        "    changeeth.value = f'Change for ethereum: {(float(yeth[-1])-float(yeth[0]))*10000}'\r\n",
        "    perchangeeth.value = f'Percent change for ethereum: {(float(yeth[-1])-float(yeth[0]))*100/float(yeth[0])}'\r\n",
        "    minpricebtc.value = f'Min price btc: {min_pricebtc}'\r\n",
        "    mintimebtc.value = f'Time at min btc: {min_timebtc}'\r\n",
        "    maxpricebtc.value = f'Max price btc: {max_pricebtc}'\r\n",
        "    maxtimebtc.value = f'Time at max btc: {max_timebtc}'\r\n",
        "    minpriceeth.value = f'Min price eth: {min_priceeth}'\r\n",
        "    mintimeeth.value = f'Time at min eth: {min_timeeth}'\r\n",
        "    maxpriceeth.value = f'Max price eth: {max_priceeth}'\r\n",
        "    maxtimeeth.value = f'Time at max eth: {max_timeeth}'    \r\n",
        "    \r\n",
        "    display(changebtc)\r\n",
        "    display(perchangebtc)\r\n",
        "    display(changeeth)\r\n",
        "    display(perchangeeth)\r\n",
        "    display(minpricebtc)\r\n",
        "    display(mintimebtc)\r\n",
        "    display(maxpricebtc)\r\n",
        "    display(maxtimebtc)\r\n",
        "    display(minpriceeth)\r\n",
        "    display(mintimeeth)\r\n",
        "    display(maxpriceeth)\r\n",
        "    display(maxtimeeth)\r\n",
        "\r\n",
        "    plt.title('BTC vs ETH (x10000)')\r\n",
        "    plt.plot(x,ybtc, x, yeth)\r\n",
        "    plt.show()\r\n",
        "\r\n"
      ],
      "execution_count": null,
      "outputs": []
    },
    {
      "cell_type": "code",
      "metadata": {
        "colab": {
          "base_uri": "https://localhost:8080/",
          "height": 414,
          "referenced_widgets": [
            "a151aa844b5548f99d2baa9460ca9939",
            "1c5a6687165f444f9801a63320d98dd8",
            "c26a12d507a74bc0bd6b02d545b5f24d",
            "7a44850deb80407095c71388ab1dc7d1",
            "c6d0eef286074a9f8751c3657511b21c",
            "1778d221af9747eaa8a69e07a06f4dd8"
          ]
        },
        "id": "Hts75PXL9xE1",
        "outputId": "c52eca20-36aa-4d71-d27d-4b5cbd93ecbe"
      },
      "source": [
        "button = widgets.Button(description=\"Analyse\")\r\n",
        "button.on_click(analyse)\r\n",
        "button"
      ],
      "execution_count": null,
      "outputs": [
        {
          "output_type": "display_data",
          "data": {
            "application/vnd.jupyter.widget-view+json": {
              "model_id": "a151aa844b5548f99d2baa9460ca9939",
              "version_minor": 0,
              "version_major": 2
            },
            "text/plain": [
              "Button(description='Analyse', style=ButtonStyle())"
            ]
          },
          "metadata": {
            "tags": []
          }
        },
        {
          "output_type": "display_data",
          "data": {
            "application/vnd.jupyter.widget-view+json": {
              "model_id": "7a44850deb80407095c71388ab1dc7d1",
              "version_minor": 0,
              "version_major": 2
            },
            "text/plain": [
              "IntProgress(value=7, description='Loading:', max=10)"
            ]
          },
          "metadata": {
            "tags": []
          }
        },
        {
          "output_type": "error",
          "ename": "AttributeError",
          "evalue": "ignored",
          "traceback": [
            "\u001b[0;31m---------------------------------------------------------------------------\u001b[0m",
            "\u001b[0;31mAttributeError\u001b[0m                            Traceback (most recent call last)",
            "\u001b[0;32m<ipython-input-5-416d0592cd0a>\u001b[0m in \u001b[0;36manalyse\u001b[0;34m(b)\u001b[0m\n\u001b[1;32m     22\u001b[0m     \u001b[0;32mwhile\u001b[0m \u001b[0mtime\u001b[0m\u001b[0;34m.\u001b[0m\u001b[0mtime\u001b[0m\u001b[0;34m(\u001b[0m\u001b[0;34m)\u001b[0m \u001b[0;34m<\u001b[0m \u001b[0mend_time\u001b[0m\u001b[0;34m:\u001b[0m\u001b[0;34m\u001b[0m\u001b[0;34m\u001b[0m\u001b[0m\n\u001b[1;32m     23\u001b[0m \u001b[0;34m\u001b[0m\u001b[0m\n\u001b[0;32m---> 24\u001b[0;31m       \u001b[0mprice\u001b[0m \u001b[0;34m=\u001b[0m \u001b[0mget_crypto_price\u001b[0m\u001b[0;34m(\u001b[0m\u001b[0mcrypto\u001b[0m\u001b[0;34m)\u001b[0m\u001b[0;34m\u001b[0m\u001b[0;34m\u001b[0m\u001b[0m\n\u001b[0m\u001b[1;32m     25\u001b[0m       \u001b[0mlast_price\u001b[0m \u001b[0;34m=\u001b[0m \u001b[0mprice\u001b[0m\u001b[0;34m\u001b[0m\u001b[0;34m\u001b[0m\u001b[0m\n\u001b[1;32m     26\u001b[0m       \u001b[0my\u001b[0m\u001b[0;34m.\u001b[0m\u001b[0mappend\u001b[0m\u001b[0;34m(\u001b[0m\u001b[0mfloat\u001b[0m\u001b[0;34m(\u001b[0m\u001b[0mconv\u001b[0m\u001b[0;34m(\u001b[0m\u001b[0mprice\u001b[0m\u001b[0;34m)\u001b[0m\u001b[0;34m)\u001b[0m\u001b[0;34m/\u001b[0m\u001b[0;36m10000\u001b[0m\u001b[0;34m)\u001b[0m\u001b[0;34m\u001b[0m\u001b[0;34m\u001b[0m\u001b[0m\n",
            "\u001b[0;32m<ipython-input-2-3d36a4b6abf4>\u001b[0m in \u001b[0;36mget_crypto_price\u001b[0;34m(coin)\u001b[0m\n\u001b[1;32m      4\u001b[0m     \u001b[0mHTML\u001b[0m \u001b[0;34m=\u001b[0m \u001b[0mrequests\u001b[0m\u001b[0;34m.\u001b[0m\u001b[0mget\u001b[0m\u001b[0;34m(\u001b[0m\u001b[0murl\u001b[0m\u001b[0;34m)\u001b[0m\u001b[0;34m\u001b[0m\u001b[0;34m\u001b[0m\u001b[0m\n\u001b[1;32m      5\u001b[0m     \u001b[0msoup\u001b[0m \u001b[0;34m=\u001b[0m \u001b[0mBeautifulSoup\u001b[0m\u001b[0;34m(\u001b[0m\u001b[0mHTML\u001b[0m\u001b[0;34m.\u001b[0m\u001b[0mtext\u001b[0m\u001b[0;34m,\u001b[0m \u001b[0;34m'html.parser'\u001b[0m\u001b[0;34m)\u001b[0m\u001b[0;34m\u001b[0m\u001b[0;34m\u001b[0m\u001b[0m\n\u001b[0;32m----> 6\u001b[0;31m     \u001b[0mtext\u001b[0m \u001b[0;34m=\u001b[0m \u001b[0msoup\u001b[0m\u001b[0;34m.\u001b[0m\u001b[0mfind\u001b[0m\u001b[0;34m(\u001b[0m\u001b[0;34m\"div\"\u001b[0m\u001b[0;34m,\u001b[0m \u001b[0mattrs\u001b[0m\u001b[0;34m=\u001b[0m\u001b[0;34m{\u001b[0m\u001b[0;34m'class'\u001b[0m\u001b[0;34m:\u001b[0m\u001b[0;34m'BNeawe iBp4i AP7Wnd'\u001b[0m\u001b[0;34m}\u001b[0m\u001b[0;34m)\u001b[0m\u001b[0;34m.\u001b[0m\u001b[0mfind\u001b[0m\u001b[0;34m(\u001b[0m\u001b[0;34m\"div\"\u001b[0m\u001b[0;34m,\u001b[0m \u001b[0mattrs\u001b[0m\u001b[0;34m=\u001b[0m\u001b[0;34m{\u001b[0m\u001b[0;34m'class'\u001b[0m\u001b[0;34m:\u001b[0m\u001b[0;34m'BNeawe iBp4i AP7Wnd'\u001b[0m\u001b[0;34m}\u001b[0m\u001b[0;34m)\u001b[0m\u001b[0;34m.\u001b[0m\u001b[0mtext\u001b[0m\u001b[0;34m\u001b[0m\u001b[0;34m\u001b[0m\u001b[0m\n\u001b[0m\u001b[1;32m      7\u001b[0m     \u001b[0;32mreturn\u001b[0m \u001b[0mtext\u001b[0m\u001b[0;34m\u001b[0m\u001b[0;34m\u001b[0m\u001b[0m\n\u001b[1;32m      8\u001b[0m \u001b[0;34m\u001b[0m\u001b[0m\n",
            "\u001b[0;31mAttributeError\u001b[0m: 'NoneType' object has no attribute 'find'"
          ]
        }
      ]
    },
    {
      "cell_type": "code",
      "metadata": {
        "id": "IEJ2ekqzRYrF"
      },
      "source": [
        ""
      ],
      "execution_count": null,
      "outputs": []
    }
  ]
}